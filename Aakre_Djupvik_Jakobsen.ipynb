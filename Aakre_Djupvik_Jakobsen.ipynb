{
 "cells": [
  {
   "cell_type": "markdown",
   "id": "21979321-0cfd-4f46-8cce-f3423d70a911",
   "metadata": {},
   "source": [
    "# Biofysikkprosjekt - Monte Carlo-simuleringer av polymerfolding\n",
    "\n",
    "Vemund Aakre, Thorbjørn Djupvik og Oskar Feed Jakobsen"
   ]
  },
  {
   "cell_type": "markdown",
   "id": "64836d8d",
   "metadata": {},
   "source": [
    "Chains of aminoacids are the the building blocks of proteins.\n",
    "These will fold themeselves in the three dimensional room and thus chemical bonding between non-neighbouring parts of the chain will occur.\n",
    "The generalization of such three-dimensional structures are called *polymers*. Polymers consists of repeating units called *monomers*.\n",
    "In this project we will simulate polymerfolding in two dimension.\n",
    "By using methods of Monte-Carlo-simulation we investigate physical properties of polymers.\n",
    "The energy and the spacial extent of the structures are quantities that we will investigate."
   ]
  },
  {
   "cell_type": "code",
   "execution_count": 26,
   "id": "680279e1",
   "metadata": {},
   "outputs": [],
   "source": [
    "import numpy as np\n",
    "import matplotlib.pyplot as plt\n",
    "from numba import njit                 # we need to explain the use of this module in our project\n",
    "from scipy.constants import Boltzmann\n",
    "from pathlib import Path               # probably unnecessary, but imported as \"føre-var\"."
   ]
  },
  {
   "cell_type": "markdown",
   "id": "2e2e6a13-1a1d-4f72-ae5a-22bd528f94b0",
   "metadata": {},
   "source": [
    "## The representation of a polymer\n",
    "To represent a two dimensional polymer, one may try to create a two dimensional matrix to represent 2D space\n",
    "and denote with for example 1 or 0 whether a monomer is located at a point in space or not. This will in general be \n",
    "unsuitable when scaling the problem, since the size of the matrix scales as $N^2$ with the size of the polymer. This also \n",
    "results in a higher computation time, because every computation done with the polymer requires iterating through the entire \n",
    "matrix. As most of the indices will be zero, this is a waste of space and time, and can be optimized.\n",
    "\n",
    "A more efficient way of representing the polymer is just to store its monomer coordinates in a $N\\times2$ matrix, reducing \n",
    "the matrix size to scale linearly with the size of the polymer. In our implementation the matrix has a size of $N\\times2$, \n",
    "where each row contains the coordinate of a single monomer, $(x, y)$. The order of the rows is set to be the order\n",
    "in which they appear in the polymer. For a polymer of size N, the structure would look like this:\n",
    "\n",
    "$$\n",
    "  \\begin{bmatrix}\n",
    "   x_1& y_1\\\\\n",
    "   x_2& y_2\\\\\n",
    "   \\vdots&\\vdots \\\\\n",
    "   x_N& y_N\\\\\n",
    "  \\end{bmatrix}\n",
    "$$\n",
    "\n",
    "### A couple of conventions\n",
    "Following the naming convention of the project description, we will name the first monomer 'monomer 1', and not by its index \n",
    "in the matrix. We will also define the head of a polymer with respect to a given monomer $i$, to be all monomers $j$\n",
    "where $j<i$. The tail is defined identically for $j>i$.\n"
   ]
  },
  {
   "cell_type": "markdown",
   "id": "d0f1fdba",
   "metadata": {},
   "source": [
    "## Polymers in action\n",
    "To be able to work with polymers in the code, it is nice to have a function to automatically create a polymer of a given size \n",
    "without having to manually type it into the code.\n",
    "The function `generate_flat_polymer` generates a flat polymer of a given length centered around the origin."
   ]
  },
  {
   "cell_type": "code",
   "execution_count": 27,
   "id": "b4125878",
   "metadata": {},
   "outputs": [],
   "source": [
    "@njit\n",
    "def generate_flat_polymer(\n",
    "    polymer_length: int, mid_of_polymer: np.ndarray = np.zeros(2)\n",
    ") -> np.ndarray:\n",
    "    \"\"\"Genererer en horisontal polymer med N monomerer\n",
    "\n",
    "    Args:\n",
    "        polymer_length (int): N antall monomerer\n",
    "        mid_of_polymer (np.ndarray, optional): Midtpunktet til polymeren, Defaults to np.zeros(2).\n",
    "\n",
    "    Returns:\n",
    "        np.ndarray: den genererte polymeren\n",
    "    \"\"\"\n",
    "    polymer_array = np.zeros((polymer_length, 2), dtype=np.int32)\n",
    "    polymer_start = -int(polymer_length / 2) + mid_of_polymer[0]\n",
    "    # + 1/2 for å håndtere partall\n",
    "    polymer_end = int((polymer_length + 1) / 2) + mid_of_polymer[0]\n",
    "    polymer_array[:, 1] = mid_of_polymer[1]\n",
    "    polymer_array[:, 0] = np.arange(polymer_start, polymer_end, 1, dtype=np.int32)\n",
    "\n",
    "    return polymer_array"
   ]
  },
  {
   "cell_type": "markdown",
   "id": "2b030b73-30eb-4908-8c9c-ec9d53fe20b7",
   "metadata": {},
   "source": [
    "While working with polymers, it is also beneficial to be able to visualize them. Both for debugging and analysis purposes. \n",
    "The function `illustrate_polymer` displays the polymer in a grid of size $N\\times N$, with a color gradient to separate the \n",
    "monomers from each other."
   ]
  },
  {
   "cell_type": "code",
   "execution_count": 28,
   "id": "b90d2535",
   "metadata": {},
   "outputs": [],
   "source": [
    "def illustrate_polymer(\n",
    "    polymer: np.ndarray,\n",
    "    cmap: str = \"binary\",\n",
    "    numbers: bool = False,\n",
    "    title: str = \"\",\n",
    "    save_to_file: bool = False,\n",
    "    filename: str | Path = \"\",\n",
    ") -> None:\n",
    "    \"\"\"\n",
    "    Uses matplotlib.pyplot.pcolormesh to illustrate a polymer.\n",
    "\n",
    "    Args:\n",
    "        polymer: Nx2-dimensional array containing coordinates for the N monomers\n",
    "        cmap: matplotlib colormap\n",
    "        number: Defaults to False. If True the monomers will display their index\n",
    "        title: Title\n",
    "        save_to_file: Defaults to False\n",
    "        filename: if save_to_file is True filename has to be specified.\n",
    "\n",
    "    Returns:\n",
    "        None\n",
    "    \"\"\"\n",
    "    fig, ax = plt.subplots()\n",
    "\n",
    "    # Make a NxN-grid\n",
    "    N = len(polymer)\n",
    "    x = y = np.arange(N + 1)\n",
    "    Z = np.zeros((N, N))\n",
    "\n",
    "    # Placing the polymer on the grid such that the middle monomer is in the center.\n",
    "    middle_monomer = polymer[int(N / 2)]\n",
    "    for i, monomer in enumerate(polymer):\n",
    "        shifty = 1 if N % 2 == 0 and middle_monomer[1] < 0 else 0\n",
    "        shiftx = 1 if N % 2 == 0 and middle_monomer[0] < 0 else 0\n",
    "        x_coord = monomer[1] + int(N / 2) - middle_monomer[1] - shifty\n",
    "        y_coord = monomer[0] + int(N / 2) - middle_monomer[0] - shiftx\n",
    "        Z[x_coord, y_coord] = N + 2 - i\n",
    "        if numbers:\n",
    "            ax.text(y_coord + 0.5, x_coord + 0.5, i + 1, size=\"large\", color=\"red\")\n",
    "\n",
    "    ax.pcolormesh(x, y, Z, shading=\"flat\", cmap=cmap)\n",
    "    ax.set(title=title, xticks=x, xticklabels=[], yticks=y, yticklabels=[])\n",
    "    plt.tick_params(axis=\"both\", left=False, right=False, bottom=False, top=False)\n",
    "    ax.grid()\n",
    "\n",
    "    if not save_to_file:\n",
    "        plt.show()\n",
    "    else:\n",
    "        print(\n",
    "            f\"function illustrate_polymer() in {__file__}:\\n\\tsaving a plot to {filename}\"\n",
    "        )\n",
    "        plt.savefig(filename)"
   ]
  },
  {
   "cell_type": "markdown",
   "id": "77130599-7d7b-44f9-9fd7-958b1e6216b8",
   "metadata": {},
   "source": [
    "Let us use `illustrate_polymer` to get a sense of how a flat polymer consisting of 10 monomers. The numbers $1$ through $10$ walks the polymer from it's head to it's tail."
   ]
  },
  {
   "cell_type": "code",
   "execution_count": 29,
   "id": "0db9efe9-e4d8-49d8-9000-ccae3c8d3a03",
   "metadata": {},
   "outputs": [
    {
     "data": {
      "image/png": "[encoded data removed]",
      "text/plain": [
       "<Figure size 640x480 with 1 Axes>"
      ]
     },
     "metadata": {},
     "output_type": "display_data"
    }
   ],
   "source": [
    "polymer = generate_flat_polymer(polymer_length=10)\n",
    "illustrate_polymer(polymer, numbers=True, cmap=\"Greens\", title=\"Polymer med lengd 10\")"
   ]
  },
  {
   "cell_type": "markdown",
   "id": "1608fd6a",
   "metadata": {},
   "source": [
    "### Validation"
   ]
  },
  {
   "cell_type": "markdown",
   "id": "c5935fbd-2331-470d-873f-c8e5f83714aa",
   "metadata": {},
   "source": [
    "As per the project description, our model is a simplified 2D-model of polymers, and the polymers are therefore subject to \n",
    "certain restrictions. A polymer of size $N$ is only considered *intact* if it satisfies the following rules defined in 1e):\n",
    "\n",
    "**oversatt fra prosjektbeskrivelsen. ha på norsk? sitere?**\n",
    "1. It has $N$ monomers.\n",
    "2. Each monomer is represented by a unique integer $m \\in [1, N]$. This means that no monomer is represented by the same number as another monomer.\n",
    "3. A monomer represented by the integer $m$ is the closest neighbour to the monomers represented by the integers $m-1$ and $m+1$. Monomers at the ends, $m=1$ and $m=N$ , need only to be closest neighbour to $m=2$ and $m=N-1$ respectivly. Two monomers are closest neighbours if the distance between them is exactly equal to one.\n",
    "4. Two monomers do not occupy the same space simultaneously. \n",
    "\n",
    "Thus, when trying to fold a polymer, we always have to check its validity before attempting to operate on it. The functions \n",
    "defined underneath all implements the validation-logic. An important thing to note is that the validation function needs to \n",
    "be fast. When running the simulation, it might get called multiple times for every Monte-Carlo step.\n",
    "\n",
    "In our implementation we tried several strategies. The first one is a for-loop implementation, which has the benefit of an early return if the polymer is not intact. Method 2 on the other hand will always run the worst case scenario and check all the distances before returning. However it is completely implemented with numpy functions, and for that reason it is actually faster. The last implementation uses numba to JIT-compile the function. Because numba does not support np.unique with axis specified, we had to rewrite that part to python for-loops. Here we could again utilize the early return optimization. This implementation is the fastest, mostly because it gets compiled down to machine code before running."
   ]
  },
  {
   "cell_type": "code",
   "execution_count": 30,
   "id": "f3bd1444",
   "metadata": {},
   "outputs": [],
   "source": [
    "def check_if_intact_1(polymer: np.ndarray, polymer_length: int) -> bool:\n",
    "    \"\"\"Checks if polymer is intact\n",
    "\n",
    "    Args:\n",
    "        polymer (np.ndarray): The polymer to check\n",
    "        polymer_length (int): Length of the polymer\n",
    "\n",
    "    Returns:\n",
    "        bool: True if the polymer is intact\n",
    "    \"\"\"\n",
    "    # Checks that the polymer has N monomers, where each has a unique whole number representation\n",
    "    if np.size(np.unique(polymer, axis=0), axis=0) != polymer_length:\n",
    "        return False\n",
    "\n",
    "    for i in range(1, polymer_length):\n",
    "        # Don't have to take the square root (faster), as any value different from 1 indicates a broken polymer anyway.\n",
    "        distance = (polymer[i - 1, 0] - polymer[i, 0]) ** 2 + (\n",
    "            polymer[i - 1, 1] - polymer[i, 1]\n",
    "        ) ** 2\n",
    "        if distance != 1:\n",
    "            return False\n",
    "    return True"
   ]
  },
  {
   "cell_type": "code",
   "execution_count": 31,
   "id": "9fa693ba",
   "metadata": {},
   "outputs": [],
   "source": [
    "def check_if_intact_2(polymer: np.ndarray, polymer_length: int) -> bool:\n",
    "    \"\"\"Checks if polymer is intact\n",
    "\n",
    "    Args:\n",
    "        polymer (np.ndarray): The polymer to check\n",
    "        polymer_length (int): Length of the polymer\n",
    "\n",
    "    Returns:\n",
    "        bool: True if the polymer is intact\n",
    "    \"\"\"\n",
    "    # Checks that the polymer has N monomers, where each has a unique whole number representation\n",
    "    if np.size(np.unique(polymer, axis=0), axis=0) != polymer_length:\n",
    "        return False\n",
    "\n",
    "    test = polymer[1:]\n",
    "    test_mot = polymer[:-1]\n",
    "    # Don't have to take the square root (faster), as any value different from 1 indicates a broken polymer anyway.\n",
    "    distance_array = np.abs(test[:, 0] - test_mot[:, 0]) + np.abs(\n",
    "        test[:, 1] - test_mot[:, 1]\n",
    "    )\n",
    "    if np.any(distance_array != 1):\n",
    "        return False\n",
    "    return True"
   ]
  },
  {
   "cell_type": "code",
   "execution_count": 64,
   "id": "e3274789",
   "metadata": {},
   "outputs": [],
   "source": [
    "@njit\n",
    "def check_if_intact(polymer: np.ndarray, polymer_length: int) -> bool:\n",
    "    \"\"\"Checks if polymer is intact\n",
    "\n",
    "    Args:\n",
    "        polymer (np.ndarray): polymer that is checked\n",
    "        polymer_length (int): length of the polymer\n",
    "\n",
    "    Returns:\n",
    "        bool: True if polymer is intact\n",
    "    \"\"\"\n",
    "\n",
    "    if len(polymer) != polymer_length:\n",
    "        return False\n",
    "\n",
    "    unique_monomer = np.zeros_like(polymer)\n",
    "    # First monomer is always unique\n",
    "    unique_monomer[0] = polymer[0]\n",
    "\n",
    "    # Does not have to check the first monomer\n",
    "    for i in range(1, polymer_length):\n",
    "        for j in range(i):\n",
    "            # checks that the monomer's coordinates are not similar to a previous monomer\n",
    "            if (\n",
    "                polymer[i, 0] == unique_monomer[j, 0]\n",
    "                and polymer[i, 1] == unique_monomer[j, 1]\n",
    "            ):\n",
    "                return False\n",
    "            else:\n",
    "                unique_monomer[i] = polymer[i]\n",
    "\n",
    "    test = polymer[1:]\n",
    "    test_against = polymer[:-1]\n",
    "    # Don't need squareroot since all other values than 1 means that it is not intact\n",
    "    distance_array = (test[:, 0] - test_against[:, 0]) ** 2 + (\n",
    "        test[:, 1] - test_against[:, 1]\n",
    "    ) ** 2\n",
    "\n",
    "    # If distance-array contains anything other than 1, the polymer is not intact\n",
    "    if np.any(distance_array != 1):\n",
    "        return False\n",
    "    return True"
   ]
  },
  {
   "cell_type": "markdown",
   "id": "418c89da",
   "metadata": {},
   "source": [
    "### Rotation\n",
    "\n",
    "To rotate a polymer around a given monomer, we only need to look at the relative position between the rotation center and the \n",
    "monomers which are to be rotated. Let's denote the coordinates of the rotation center as $(x_s, y_s)$, and of an arbitrary \n",
    "monomer as $(x_0, y_0)$. Then the relative position of the monomer with respect to the rotation center is given by\n",
    "$$\n",
    "    (x_{0, rel}, y_{0, rel}) = (x_0-x_s, y_0-y_s)\n",
    "$$\n",
    ". When the monomer is rotated, the new relative coordinates in terms of the old ones is\n",
    "$$\n",
    "    (x_{1, rel}, y_{1, rel}) = k \\cdot (- y_{0, rel}, x_{0, rel})\n",
    "$$\n",
    ", where $k=1$ if the rotation is in the positive direction, and $k=-1$ if it is in the negative direction.\n",
    "The new coordinates of the monomer then becomes\n",
    "$$\n",
    "    (x_{rot}, y_{rot}) = (x_s, y_s) + k \\cdot (-y_{rel}, x_{rel}) = (x_s, y_s) + k \\cdot (-(y_0 - y_s), x_0 - x_s)\n",
    "$$\n",
    ". When implementing this, one can make a small optimization by always rotating the shortest end of the polymer with respect \n",
    "to the rotation center. This reduces the number of computations and ensures that the center of the polymer does not move too \n",
    "much when rotating. In the case that the head and tail are equally long, it does not matter which one gets rotated. In our implementation we have defined it to just rotate the tail. In order to speed up the function, we have exclusively used numpy slicing in addition to using njit.\n",
    "\n",
    "As an attempt to optimize it further, we tried changing the function to mutating the polymer instead of cloning it. In the metropolis-method, we would then have to rotate the polymer back if the state was not valid. When testing this, the timings of both versions were near identical, and any difference was overshadowed by the randomness of the algorithm. For our usecase we settled with the original function, simply because it is easier to follow the flow of the program and reason about it.\n"
   ]
  },
  {
   "cell_type": "code",
   "execution_count": 33,
   "id": "4d83920b",
   "metadata": {},
   "outputs": [],
   "source": [
    "@njit\n",
    "def rotate_polymer(\n",
    "    polymer: np.ndarray, rotation_center: int, positive_direction: bool = True\n",
    ") -> np.ndarray:\n",
    "    \"\"\"Rotates a polymer in the given direction around a monomer\n",
    "\n",
    "    Args:\n",
    "        polymer: A 2D numpy array with monomer coordinates\n",
    "\n",
    "        rotation_center: Which monomer to rotate around\n",
    "        `Note: It is not the index, but the monomer_number. [1, N]`\n",
    "\n",
    "        positive_direction: Rotate in the positive direction if True, or negative direction if False\n",
    "\n",
    "    Returns:\n",
    "        a rotated copy of the polymer\n",
    "    \"\"\"\n",
    "    # Make a slicing array to rotate the correct end of the polymer\n",
    "    rotation_slice = np.full(len(polymer), False)\n",
    "\n",
    "    # Choose to rotate the shortest tail of the polymer\n",
    "    if rotation_center >= len(polymer) / 2:\n",
    "        rotation_slice[rotation_center:] = True\n",
    "    else:\n",
    "        rotation_slice[:rotation_center] = True\n",
    "\n",
    "    if positive_direction:\n",
    "        direction = 1\n",
    "    else:\n",
    "        direction = -1\n",
    "\n",
    "    # The coordinates in space of the rotation center\n",
    "    rotation_position = polymer[rotation_center - 1]\n",
    "\n",
    "    # Where _rel means the position relative to the rotation center\n",
    "    # new_x = x_s + new_x_rel\n",
    "    # new_y = y_s + new_y_rel\n",
    "    # new_x_rel = - (y - y_s) * direction\n",
    "    # new_y_rel = (x - x_s) * direction\n",
    "    new_pos_rel = ((polymer[rotation_slice] - rotation_position) * direction)[:, ::-1]\n",
    "    new_pos_rel[:, 0] *= -1  # Changes the sign of the x-values\n",
    "\n",
    "    # Makes a copy of the polymer\n",
    "    # TODO: om lettere å mutere for så å mutere tilbake igjen\n",
    "    # new_polymer = polymer[:]\n",
    "    new_polymer = polymer.copy()\n",
    "\n",
    "    new_polymer[rotation_slice] = rotation_position + new_pos_rel\n",
    "    return new_polymer"
   ]
  },
  {
   "cell_type": "markdown",
   "id": "d059b610-70dd-4ebb-8466-893f0bfec205",
   "metadata": {},
   "source": [
    "Implementation of algorithm 1 (**sitere?**, **endre navn på funksjon?**):"
   ]
  },
  {
   "cell_type": "code",
   "execution_count": 65,
   "id": "4e164236-f3f1-48cc-b9c4-cda215c05e2c",
   "metadata": {},
   "outputs": [],
   "source": [
    "# @njit\n",
    "def alg1(N: int, Ns: int) -> tuple[np.ndarray, int]:\n",
    "    \"\"\"Implementation of algorithm 1.\n",
    "    ---\n",
    "    Args:\n",
    "        N: length of polymer.\n",
    "        Ns: number of twists (attempts) to be performed.\n",
    "\n",
    "    Returns:\n",
    "        (polymer, counter)\n",
    "            polymer: polymer.\n",
    "            counter: number of successful twists.\n",
    "    \"\"\"\n",
    "    counter = 1\n",
    "    pol = generate_flat_polymer(N)\n",
    "    while counter <= Ns:\n",
    "        # random monomer and random twisting direction\n",
    "        rnd_monomer = np.random.randint(2, N)\n",
    "        rnd_rotate = bool(int(np.random.uniform() + 0.5))\n",
    "\n",
    "        twisted_pol = rotate_polymer(pol, rnd_monomer, rnd_rotate)\n",
    "        valid = check_if_intact(twisted_pol, N)\n",
    "        if valid:\n",
    "            counter += 1\n",
    "            pol = twisted_pol\n",
    "\n",
    "    return pol, counter"
   ]
  },
  {
   "cell_type": "markdown",
   "id": "28d825e3-7063-497b-a8dc-7a78aa989adf",
   "metadata": {},
   "source": [
    "Let us run `alg1` and visualize the results. First with $N = 15$ and $N_s = 4$. Thereafter with $N = 15$ and $N_s = 1000$."
   ]
  },
  {
   "cell_type": "code",
   "execution_count": 66,
   "id": "13e4dc9a-2b48-46a0-8eef-6342d38a883c",
   "metadata": {},
   "outputs": [
    {
     "data": {
      "image/png": "[encoded data removed]",
      "text/plain": [
       "<Figure size 640x480 with 1 Axes>"
      ]
     },
     "metadata": {},
     "output_type": "display_data"
    },
    {
     "data": {
      "image/png": "[encoded data removed]",
      "text/plain": [
       "<Figure size 640x480 with 1 Axes>"
      ]
     },
     "metadata": {},
     "output_type": "display_data"
    }
   ],
   "source": [
    "polymer_1, _ = alg1(N = 15, Ns = 4)\n",
    "polymer_2, _ = alg1(N = 15, Ns = 1000)\n",
    "\n",
    "illustrate_polymer(polymer_1, cmap=\"Greens\", title=\"$N = 15$, $N_s = 4$\")\n",
    "illustrate_polymer(polymer_2, cmap=\"Greens\", title=\"$N = 15$, $N_s = 1000$\")"
   ]
  },
  {
   "cell_type": "markdown",
   "id": "707940b9-9162-489d-9c2a-aef7636a1aca",
   "metadata": {},
   "source": [
    "Det er nå eit godt tidspunkt å vurdera hastigheita til funksjonane som er implementert.\n",
    "\n",
    "**insert episk innhold her**\n",
    "\n",
    "La oss sjekke tidsbruken:\n",
    "\n",
    "**%timeit eller egendefinerte benchmarks?**\n",
    "\n",
    "**Korleis skalerar implementasjonen med $N$?**"
   ]
  },
  {
   "cell_type": "code",
   "execution_count": 36,
   "id": "7a0afcdf-1fc8-4d45-8620-0a8cf05224ff",
   "metadata": {},
   "outputs": [
    {
     "name": "stdout",
     "output_type": "stream",
     "text": [
      "64.2 ms ± 473 µs per loop (mean ± std. dev. of 7 runs, 10 loops each)\n"
     ]
    }
   ],
   "source": [
    "%timeit alg1(N = 35, Ns = 50_000)"
   ]
  },
  {
   "cell_type": "markdown",
   "id": "0b83f1cf",
   "metadata": {},
   "source": [
    "The energy of the polymer is defined as follows:\n",
    "\n",
    "$$\n",
    "    E = \\frac{1}{2} \\sum_{m, n} V_{mn} b_{mn}\n",
    "$$\n",
    "\n",
    "**sjå prosjektbeskrivelse for forklaring. Kor mykje treng vi å inkludere her for at teksten skal ha god samanheng og flyt?**\n",
    "\n",
    "Her er $N\\times N$-matrisen $V$ ein konstant (som kan definerast på forhand) medan størrelsen $b_{mn}$ må reknast ut for kvar iterasjon:\n",
    "\n",
    "\\begin{equation}\n",
    " b_{mn} =\n",
    "  \\begin{cases}\n",
    "  1 & m \\text{ and } n \\text{ closest neighbours} \\\\\n",
    "  0 & \\text{otherwise} \n",
    "  \\end{cases}\n",
    "\\end{equation}\n",
    "\n",
    "For å rekne ut energien til eit monomer treng ein å vite kven av monomerane som er nærmaste naboar.\n",
    "\n",
    "Me har to implementasjonar som har ulike styrkar og svakheiter:\n",
    "\n",
    "- `calculate_energy`:\n",
    "    - neg: brukar `for`-løkker. pos: utnyttar symmetrien til $V$ og $b$.\n",
    "- `calculate_energy_2`\n",
    "    - neg: brukar meir minne. pos: brukar utelukkande `numpy` og er dermed ein smule raskare\n",
    " \n",
    "**visa til benchmarks og testing av hastigheit og minnebruk?** "
   ]
  },
  {
   "cell_type": "code",
   "execution_count": 37,
   "id": "7aec5501",
   "metadata": {},
   "outputs": [],
   "source": [
    "# Funksjonen kan, (og bør?), JIT-kompileres av numba\n",
    "@njit()\n",
    "def calculate_energy(polymer: np.ndarray, V: np.ndarray) -> np.float32:\n",
    "    \"\"\"Regner ut energien til et gitt polymer.\n",
    "\n",
    "    Args:\n",
    "        polymer: et numpy-array med monomer-koordinatene til et gyldig polymer\n",
    "\n",
    "        V: matrise med styrken på vekselvirkninger mellom monomerene.\n",
    "        V[i, j] = V[j, i] = styrken mellom monomer nummer (i+1) og (j+1)\n",
    "\n",
    "    Returns:\n",
    "        Energien til hele polymeret\n",
    "    \"\"\"\n",
    "    N = len(polymer)\n",
    "    # En matrise som angir om monomer (i+1) og (j+1) er naboer. b_matrix[i, j] = 1 dersom de er naboer.\n",
    "    b_matrix = np.zeros((N, N))\n",
    "    for i in range(0, N):\n",
    "        # Trenger kun å se på monomer-sammensetninger som ikke har blitt sjekket enda.\n",
    "        # Nabomonomeren er alltid en nabo uten vekselvirkning, så trenger ikke sjekke den.\n",
    "        for j in range(i + 2, N):\n",
    "            # Kun nærmeste-nabo koordinater gir en euklidsk avstand på nøyaktig 1.\n",
    "            if np.sum((polymer[i] - polymer[j]) ** 2) == 1:\n",
    "                # Trenger bare fylle den nedre trekanten av matrisen,\n",
    "                # siden den ellers ville vært symmetrisk. (Merk j>i)\n",
    "                b_matrix[j, i] = 1\n",
    "    # Trenger ikke dele på 2 siden vi bare fyller ut den nedre trekanten av b_matrix;\n",
    "    # vi dobbelteller ikke.\n",
    "    return np.sum(V * b_matrix)"
   ]
  },
  {
   "cell_type": "code",
   "execution_count": 38,
   "id": "d4f589b2-b007-47ae-8860-9b09f46d33ff",
   "metadata": {},
   "outputs": [],
   "source": [
    "@njit\n",
    "def calculate_energy_2(polymer: np.ndarray, V: np.ndarray) -> float:\n",
    "    \"\"\"idk... think it works. maybe. see Oskar's notebook for details lol.\"\"\"\n",
    "    N = len(polymer)\n",
    "    L = np.repeat(polymer, N).reshape(2*N,N)\n",
    "    b = np.where(np.abs(L[::2] - L[::2].transpose()) + np.abs(L[1::2] - L[1::2].transpose()) == 1, 1, 0)\n",
    "    return 0.5*(np.sum(V*b))"
   ]
  },
  {
   "cell_type": "markdown",
   "id": "e099db37-db8c-4d84-881a-41c6bb61a28c",
   "metadata": {},
   "source": [
    "Wrote this nasty function to generate $V$-matrices. This is useful in Oppgåve 2."
   ]
  },
  {
   "cell_type": "code",
   "execution_count": 39,
   "id": "df819163-881a-4c8d-aa00-f482d03ce1e7",
   "metadata": {},
   "outputs": [],
   "source": [
    "def gen_V_matrix(size: int, fill_value: float = -1.0) -> np.ndarray:\n",
    "    \"\"\"\n",
    "    With fill_value = -1 ge_V_matrix generates a size*size matrix:\n",
    "         0  0 -1 -1 ... -1 -1 -1\n",
    "         0  0  0 -1 ... -1 -1 -1\n",
    "        -1  0  0  0 ... -1 -1 -1\n",
    "        .          .           .\n",
    "        .            .         .\n",
    "        .              .       .\n",
    "        -1 -1 -1 -1 ...  0  0  0\n",
    "        -1 -1 -1 -1 ... -1  0  0\n",
    "\n",
    "    Args:\n",
    "        size: size of array\n",
    "        fill_value: float\n",
    "\n",
    "    Returns:\n",
    "        the matrix\n",
    "    \"\"\"\n",
    "    V = np.full((size, size), fill_value)\n",
    "    np.fill_diagonal(V, 0)\n",
    "    np.fill_diagonal(V[:-1, 1:], 0)\n",
    "    np.fill_diagonal(V[1:, :-1], 0)\n",
    "    return V"
   ]
  },
  {
   "cell_type": "markdown",
   "id": "4dc11fd4-2c42-4dae-a9b1-a0468e40669b",
   "metadata": {},
   "source": [
    "---\n",
    "\n",
    "## Oppgåve 2 - Investigation of physical quantities"
   ]
  },
  {
   "cell_type": "markdown",
   "id": "402990bb-360c-4d68-86a7-a6a04028048a",
   "metadata": {},
   "source": [
    "**nødvendig med veldig utførleg forklaring her?**"
   ]
  },
  {
   "cell_type": "code",
   "execution_count": 40,
   "id": "bde52851-7997-44a3-86ee-d4dd858c6486",
   "metadata": {},
   "outputs": [],
   "source": [
    "def metropolis(\n",
    "    pol: np.ndarray, N_s: int, V: np.ndarray, T: float\n",
    ") -> tuple[np.ndarray, np.ndarray]:\n",
    "    \"\"\"Kjører metropolis-algoritmen som beskrevet i oppgaveheftet\n",
    "\n",
    "    Args:\n",
    "        pol: polymer starttilstand\n",
    "        N_s: Antall forsøk på rotasjon\n",
    "        V: Vekselvirkningene mellom to gitte monomerer\n",
    "        T: temperaturen i kelvin\n",
    "\n",
    "    Returns:\n",
    "        (Siste polymer , array med alle energiene som ble simulert)\n",
    "    \"\"\"\n",
    "    E_array = np.zeros(N_s)\n",
    "    N = len(pol)\n",
    "    E = calculate_energy(pol, V)\n",
    "    i = 0\n",
    "    while i < N_s - 1:\n",
    "        # random monomer and random twisting direction\n",
    "        rnd_monomer = np.random.randint(2, N)\n",
    "        rnd_rotate = bool(int(np.random.uniform() + 0.5))\n",
    "\n",
    "        # TODO: possible to mutate the same array instead of copying?\n",
    "        twisted_pol = rotate_polymer(pol, rnd_monomer, rnd_rotate)\n",
    "        if check_if_intact(twisted_pol, N):\n",
    "            i += 1\n",
    "            E_new = calculate_energy(twisted_pol, V)\n",
    "\n",
    "            if E_new < E:\n",
    "                pol = twisted_pol\n",
    "                E = E_new\n",
    "            # TODO: Bruke en annen distribusjon enn uniform?\n",
    "            # TODO: Boltzmann-konstanten er liten. Sjekk at python håndterer det.\n",
    "            elif np.random.uniform() < np.exp(-(E_new - E) / (T * Boltzmann)):\n",
    "                pol = twisted_pol\n",
    "                E = E_new\n",
    "            E_array[i] = E\n",
    "\n",
    "    return pol, E_array"
   ]
  },
  {
   "cell_type": "markdown",
   "id": "82797df4-267d-4c09-9b8d-a5c2cd3916fa",
   "metadata": {},
   "source": [
    "La oss køyre to simuleringar av `metropolis`.\n",
    "\n",
    "La $N \\in \\{20, 21, \\dots, 35\\}$, $N_s = 5000$ og \n",
    "\n",
    "**dette va schtøgt**\n",
    "$$V =\n",
    "  \\begin{bmatrix}\n",
    "   0& 0 & & &  &  −4.0&  \\cdot& 10^{−21} &\\text{J}\\\\\n",
    "   0& 0 & 0 & &  &  &  &  & \\\\\n",
    "   & 0 & 0 & 0 &  &  &  &  & \\\\\n",
    "   &  & 0 & 0 &  &  &  &  & \\\\\n",
    "   &  &  &  &  \\ddots&  & &  & \\\\\n",
    "   &  &  &  &  &  0&  0&  & \\\\\n",
    "   &  &  &  &  &  0&  0&  0& \\\\\n",
    "   −4.0&  \\cdot& 10^{−21} &\\text{J}  &  &  &  0&  0& 0\\\\\n",
    "   &  &  &  &  &  &  &  0& 0\\\\\n",
    "  \\end{bmatrix}$$\n",
    "\n",
    "Første simulering: $ 50 \\text{K} < T_\\text{lav} < 100 \\text{K}$\n",
    "\n",
    "Andre simulering: $ 293 \\text{K} < T_\\text{hoy} < 373 \\text{K}$\n",
    "\n",
    "Plott: $E$ som funksjon av Monte Carlo-steg $t$.\n",
    "\n",
    "\n",
    "**svare på spørsmål:**\n",
    "\n",
    "Sammenlign grafene og forklar det dere ser.\n",
    "\n",
    "Hvilken av simuleringene oppnår den laveste energien i løpet av simuleringen? Forklar\n",
    "hvorfor.\n",
    "\n",
    "Hint: Her kan det være relevant å knytte drøftingen deres til konseptet av lokale energiminima."
   ]
  },
  {
   "cell_type": "code",
   "execution_count": 41,
   "id": "0780c8e0-fd9b-48ff-bfdb-3b470ec2390c",
   "metadata": {},
   "outputs": [],
   "source": [
    "# run the simulation"
   ]
  },
  {
   "cell_type": "markdown",
   "id": "d33db92d-7cba-4834-a452-dc288e3a8754",
   "metadata": {},
   "source": [
    "Illustasjon av sluttposisjonane frå oppgåva over:"
   ]
  },
  {
   "cell_type": "code",
   "execution_count": 42,
   "id": "e39e61c3-7077-4078-ab28-5cdf60ab085b",
   "metadata": {},
   "outputs": [],
   "source": [
    "# run illustration"
   ]
  },
  {
   "cell_type": "markdown",
   "id": "17dbdfbe-4a66-4de9-9db0-e478572eecc3",
   "metadata": {},
   "source": [
    "Kommenter resultatet i lys av diskusjonen deres i 2b)."
   ]
  },
  {
   "cell_type": "markdown",
   "id": "15f6172b-f427-4e6b-b2b7-6fa870119941",
   "metadata": {},
   "source": [
    "Lag så ein eigen $V$.\n",
    "\n",
    "Basert på valget deres, hvordan forventer dere at en polymer med deres V folder seg? Kjør en\n",
    "passende simulering der dere tester om polymeren folder seg på måten dere forventer.\n",
    "Illustrer sluttposisjonen til polymeren og drøft resultatet.\n",
    "\n",
    "Tips:\n",
    "Hvis dere sliter med å komme på en interessant problemstilling kan dere for\n",
    "eksempel vurdere å skalere enkelte av matriseelementene med en faktor 100. Hvordan vil dette påvirke strukturen til polymeren?"
   ]
  },
  {
   "cell_type": "markdown",
   "id": "f04893e6-a481-4acc-a437-9f66be2e65f2",
   "metadata": {},
   "source": [
    "**2 e)**\n",
    "\n",
    "By running `metropolis` over a range of temperatures we can calculate $<E>$ and $\\sigma_E$.\n",
    "\n",
    "We exclude the first $1000$ steps of each simulation due to ``warm up''.\n",
    "\n",
    "**TODO: vary $N_s$ and discuss stuffidistuff**"
   ]
  },
  {
   "cell_type": "code",
   "execution_count": 43,
   "id": "74aca215-a01a-46ef-bfc4-1f3b1c71dbd1",
   "metadata": {},
   "outputs": [],
   "source": [
    "# Defining constants\n",
    "T_interval = np.arange(10, 1000, 30)\n",
    "N = 30\n",
    "Ns = 5000\n",
    "V = gen_V_matrix(N, fill_value=-4e-21)\n",
    "\n",
    "# Preparing arrays\n",
    "E_mean = np.zeros(len(T_interval))\n",
    "E_std = np.zeros(len(T_interval))\n",
    "\n",
    "# running metropolis for all T's in T_interval and calculating the mean and standard deviation.\n",
    "for i, T in enumerate(T_interval):\n",
    "    pol = generate_flat_polymer(N)\n",
    "    pol, E_array = metropolis(pol=pol, N_s=Ns, V=V, T=T)\n",
    "    E_mean[i] = np.mean(E_array[1000:])\n",
    "    E_std[i] = np.std(E_array[1000:])"
   ]
  },
  {
   "cell_type": "code",
   "execution_count": 44,
   "id": "e33fc52b-a266-4a3c-9bf9-34dd3fd255c4",
   "metadata": {},
   "outputs": [
    {
     "data": {
      "image/png": "[encoded data removed]",
      "text/plain": [
       "<Figure size 640x480 with 1 Axes>"
      ]
     },
     "metadata": {},
     "output_type": "display_data"
    }
   ],
   "source": [
    "# just plots the results from the cell above\n",
    "fig, ax = plt.subplots()\n",
    "ax.errorbar(\n",
    "    T_interval,\n",
    "    E_mean,\n",
    "    yerr=E_std,\n",
    "    fmt=\".\",\n",
    "    capsize=3,\n",
    "    label=r\"$<E>(T)$\"\n",
    ")\n",
    "ax.set(\n",
    "    title=\"lol\",\n",
    "    xlabel=\"$T$\",\n",
    "    ylabel=\"$<E>$\",\n",
    "    xticks=T_interval[::2],\n",
    "    xlim=(0,1000)\n",
    ")\n",
    "ax.legend()\n",
    "plt.show()"
   ]
  },
  {
   "cell_type": "markdown",
   "id": "b0ac4367-24bb-4c8e-9ff0-a4da0c16180c",
   "metadata": {},
   "source": [
    "Diskuter plottet og drøft temperaturavhengigheten til $⟨E⟩$ og $\\sigma_E$. Hvordan påvirker valget deres av $N_s$ temperaturavhengigheten til $⟨E⟩$?"
   ]
  },
  {
   "cell_type": "markdown",
   "id": "d7aeea88-ae4c-4c20-8b99-e00ea3d66e21",
   "metadata": {},
   "source": [
    " **2f)**\n",
    " \n",
    " Let us take a closer look at $T = 70 \\text{K}$ by running $10$ simulations at this temperature and plotting $E(t)$.\n"
   ]
  },
  {
   "cell_type": "code",
   "execution_count": 45,
   "id": "99b430af-c3a1-4592-abe9-ac2993a514e5",
   "metadata": {},
   "outputs": [],
   "source": [
    "# Defining constants\n",
    "T = 70\n",
    "num_simulations = 10\n",
    "\n",
    "N = 30    # same as 2e)\n",
    "Ns = 5000 # same as 2e)\n",
    "V = gen_V_matrix(N, fill_value=-4e-21)\n",
    "\n",
    "# Preparing array\n",
    "E_array_array = np.zeros((num_simulations, Ns))\n",
    "\n",
    "for i in range(num_simulations):\n",
    "    pol = generate_flat_polymer(N)\n",
    "    pol, E_array = metropolis(pol=pol, N_s=Ns, V=V, T=T)\n",
    "    E_array_array[i] = E_array"
   ]
  },
  {
   "cell_type": "code",
   "execution_count": 46,
   "id": "2aa637cc-5274-45b5-85f4-9423d29960f2",
   "metadata": {},
   "outputs": [
    {
     "data": {
      "image/png": "[encoded data removed]",
      "text/plain": [
       "<Figure size 640x480 with 1 Axes>"
      ]
     },
     "metadata": {},
     "output_type": "display_data"
    }
   ],
   "source": [
    "# just plotting the results from the cell above\n",
    "fig, ax = plt.subplots()\n",
    "for E_arr in E_array_array:\n",
    "    ax.plot(E_arr)\n",
    "\n",
    "ax.set(\n",
    "    title=\"lol2\",\n",
    "    xlabel=\"$t$\",\n",
    "    ylabel=\"$E$\",\n",
    "    xlim=(0,5000)\n",
    ")\n",
    "plt.show()"
   ]
  },
  {
   "cell_type": "markdown",
   "id": "041ed0a8-e704-414f-b982-91fade9f3485",
   "metadata": {},
   "source": [
    "Plott $E(t)$ fra hver simulering i en figur og forklar det dere ser.\n",
    "Hvordan og hvorfor kan dette brukes til å bedre anslå energien til en polymer med lavere temperatur?"
   ]
  },
  {
   "cell_type": "markdown",
   "id": "72f0be35-ae0f-4531-a1d5-b94fc7684770",
   "metadata": {},
   "source": [
    "---\n",
    "\n",
    "TODO:\n",
    "\n",
    "- **Define the diameter $d$**\n",
    "- **run interesting simulations in 2g) and 2h)**\n",
    "- **hand in this notebook lol**"
   ]
  }
 ],
 "metadata": {
  "kernelspec": {
   "display_name": "Python 3 (ipykernel)",
   "language": "python",
   "name": "python3"
  },
  "language_info": {
   "codemirror_mode": {
    "name": "ipython",
    "version": 3
   },
   "file_extension": ".py",
   "mimetype": "text/x-python",
   "name": "python",
   "nbconvert_exporter": "python",
   "pygments_lexer": "ipython3",
   "version": "3.11.7"
  }
 },
 "nbformat": 4,
 "nbformat_minor": 5
}
