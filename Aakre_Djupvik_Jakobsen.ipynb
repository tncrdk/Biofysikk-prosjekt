{
 "cells": [
  {
   "cell_type": "markdown",
   "id": "21979321-0cfd-4f46-8cce-f3423d70a911",
   "metadata": {},
   "source": [
    "# Biofysikkprosjekt - Monte Carlo-simuleringer av polymerfolding\n",
    "\n",
    "Vemund Aakre, Thorbjørn Djupvik og Oskar Feed Jakobsen"
   ]
  },
  {
   "cell_type": "markdown",
   "id": "2e2e6a13-1a1d-4f72-ae5a-22bd528f94b0",
   "metadata": {},
   "source": [
    "## Oppgåve 1\n",
    "\n",
    "1 a-j)"
   ]
  },
  {
   "cell_type": "markdown",
   "id": "4dc11fd4-2c42-4dae-a9b1-a0468e40669b",
   "metadata": {},
   "source": [
    "## Oppgåve 2\n",
    "\n",
    "2 a-h)"
   ]
  },
  {
   "cell_type": "code",
   "execution_count": 1,
   "id": "bde52851-7997-44a3-86ee-d4dd858c6486",
   "metadata": {},
   "outputs": [
    {
     "name": "stdout",
     "output_type": "stream",
     "text": [
      "tjohei\n"
     ]
    }
   ],
   "source": [
    "print(\"tjohei\")"
   ]
  }
 ],
 "metadata": {
  "kernelspec": {
   "display_name": "Python 3 (ipykernel)",
   "language": "python",
   "name": "python3"
  },
  "language_info": {
   "codemirror_mode": {
    "name": "ipython",
    "version": 3
   },
   "file_extension": ".py",
   "mimetype": "text/x-python",
   "name": "python",
   "nbconvert_exporter": "python",
   "pygments_lexer": "ipython3",
   "version": "3.11.6"
  }
 },
 "nbformat": 4,
 "nbformat_minor": 5
}
